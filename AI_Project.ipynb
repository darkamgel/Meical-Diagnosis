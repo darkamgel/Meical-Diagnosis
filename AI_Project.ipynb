{
  "nbformat": 4,
  "nbformat_minor": 0,
  "metadata": {
    "colab": {
      "provenance": []
    },
    "kernelspec": {
      "name": "python3",
      "display_name": "Python 3"
    },
    "language_info": {
      "name": "python"
    },
    "accelerator": "GPU",
    "gpuClass": "standard"
  },
  "cells": [
    {
      "cell_type": "markdown",
      "source": [
        "# AI Project \n",
        "\n",
        "###  Submitted by:\n",
        "Saugat Adhikari<br>\n",
        "Saharsha Ojha<br>\n",
        "Sanjeev Kumar Khatri<br>\n",
        "\n",
        "---\n",
        "### Data\n",
        "Data was retrived from kaggle (https://www.kaggle.com/datasets/kaushil268/disease-prediction-using-machine-learning)\n",
        "\n",
        "The original dataset consists of indicators for the symptom names however for our purposes to test an NLP workload, we first transform the data from indicators to string descriptions to emulate a situation where the symptoms come in the form of text. An example input row for this after transformation would be\n",
        "\n",
        "*`symptoms: itching, dischromic patches, nodal skin eruptions, skin rash prognosis: fungal infection`*\n",
        "\n",
        "Furthermore, to add a bit of natural language variation, each list of symptoms is padded with a few random phrases to imitate the possible situation of noise and a few negative phrases as well. For example, a possible variation of above list of symptoms could be.\n",
        "\n",
        "*`symptoms: Itching. Reported signs of dischromic patches. Patient reports no patches in throat. Issues of frequent skin rash. Patient reports no spotting urination. Patient reports no stomach pain. nodal skin eruptions over the last few days.`*\n",
        "\n",
        "\n",
        "\n"
      ],
      "metadata": {
        "id": "M8do5PHqhZeS"
      }
    },
    {
      "cell_type": "code",
      "source": [
        "from google.colab import drive\n",
        "drive.mount('/content/drive', force_remount=True)"
      ],
      "metadata": {
        "colab": {
          "base_uri": "https://localhost:8080/"
        },
        "id": "GWZGLQSgOdX5",
        "outputId": "bf8b6593-b1b9-4d90-8433-dfdac1a694f2"
      },
      "execution_count": 1,
      "outputs": [
        {
          "output_type": "stream",
          "name": "stdout",
          "text": [
            "Mounted at /content/drive\n"
          ]
        }
      ]
    },
    {
      "cell_type": "markdown",
      "source": [
        "# Imports"
      ],
      "metadata": {
        "id": "FfzaqewreZum"
      }
    },
    {
      "cell_type": "code",
      "execution_count": 2,
      "metadata": {
        "id": "1BeQ_1f8N0vZ"
      },
      "outputs": [],
      "source": [
        "import matplotlib.pyplot as plt\n",
        "import seaborn as sns\n",
        "import pandas as pd\n",
        "import numpy as np\n",
        "import warnings\n",
        "import altair as alt\n",
        "import pickle\n",
        "import string\n",
        "import spacy\n",
        "import nltk \n",
        "import re\n",
        "\n",
        "from sklearn.naive_bayes import *\n",
        "from sklearn.ensemble import *\n",
        "from sklearn.neighbors import *\n",
        "from sklearn.tree import *\n",
        "from sklearn.calibration import *\n",
        "from sklearn.linear_model import *\n",
        "from sklearn.multiclass import *\n",
        "from sklearn.svm import *\n",
        "from sklearn.neural_network import MLPClassifier\n",
        "from xgboost import XGBClassifier\n",
        "from nltk.stem import WordNetLemmatizer \n",
        "from collections import Counter\n",
        "from sklearn.metrics import f1_score\n",
        "\n",
        "from spacy.lang.en.stop_words import STOP_WORDS\n",
        "from sklearn.metrics import accuracy_score, classification_report, confusion_matrix, auc, roc_curve\n",
        "from sklearn.preprocessing import LabelEncoder\n",
        "from sklearn.feature_extraction.text import CountVectorizer, TfidfTransformer, TfidfVectorizer, HashingVectorizer\n",
        "from sklearn.model_selection import train_test_split, cross_val_score, KFold, GridSearchCV\n",
        "from sklearn.pipeline import Pipeline, make_pipeline\n",
        "\n",
        "\n",
        "sns.set(style='whitegrid')\n",
        "%matplotlib inline\n",
        "warnings.filterwarnings('ignore')\n",
        "\n",
        "data = pd.read_csv('drive/My Drive/ai_datas/prog.csv')"
      ]
    },
    {
      "cell_type": "markdown",
      "source": [
        "# Data Preprocessing"
      ],
      "metadata": {
        "id": "ZVdUqFOoed7O"
      }
    },
    {
      "cell_type": "code",
      "source": [
        "data.head()"
      ],
      "metadata": {
        "colab": {
          "base_uri": "https://localhost:8080/",
          "height": 206
        },
        "id": "E2Yi0ZkOOrKP",
        "outputId": "65f76ba0-5e5b-4d6f-8623-1c83fb6c8bf1"
      },
      "execution_count": 3,
      "outputs": [
        {
          "output_type": "execute_result",
          "data": {
            "text/plain": [
              "   Unnamed: 0                                           symptoms    prognosis\n",
              "0           0  blurred and distorted vision over the last few...     Diabetes\n",
              "1           1  Patient reports no nausea. Patient is experien...     Migraine\n",
              "2           2  Mild case of joint pain. Occasional fatigue ex...  Hepatitis E\n",
              "3           3  Issues of frequent high fever. Reported signs ...     Impetigo\n",
              "4           4  Occasional phlegm experienced by patient. fati...  Common Cold"
            ],
            "text/html": [
              "\n",
              "  <div id=\"df-d557ca56-16fe-437d-b45b-d492047e3423\">\n",
              "    <div class=\"colab-df-container\">\n",
              "      <div>\n",
              "<style scoped>\n",
              "    .dataframe tbody tr th:only-of-type {\n",
              "        vertical-align: middle;\n",
              "    }\n",
              "\n",
              "    .dataframe tbody tr th {\n",
              "        vertical-align: top;\n",
              "    }\n",
              "\n",
              "    .dataframe thead th {\n",
              "        text-align: right;\n",
              "    }\n",
              "</style>\n",
              "<table border=\"1\" class=\"dataframe\">\n",
              "  <thead>\n",
              "    <tr style=\"text-align: right;\">\n",
              "      <th></th>\n",
              "      <th>Unnamed: 0</th>\n",
              "      <th>symptoms</th>\n",
              "      <th>prognosis</th>\n",
              "    </tr>\n",
              "  </thead>\n",
              "  <tbody>\n",
              "    <tr>\n",
              "      <th>0</th>\n",
              "      <td>0</td>\n",
              "      <td>blurred and distorted vision over the last few...</td>\n",
              "      <td>Diabetes</td>\n",
              "    </tr>\n",
              "    <tr>\n",
              "      <th>1</th>\n",
              "      <td>1</td>\n",
              "      <td>Patient reports no nausea. Patient is experien...</td>\n",
              "      <td>Migraine</td>\n",
              "    </tr>\n",
              "    <tr>\n",
              "      <th>2</th>\n",
              "      <td>2</td>\n",
              "      <td>Mild case of joint pain. Occasional fatigue ex...</td>\n",
              "      <td>Hepatitis E</td>\n",
              "    </tr>\n",
              "    <tr>\n",
              "      <th>3</th>\n",
              "      <td>3</td>\n",
              "      <td>Issues of frequent high fever. Reported signs ...</td>\n",
              "      <td>Impetigo</td>\n",
              "    </tr>\n",
              "    <tr>\n",
              "      <th>4</th>\n",
              "      <td>4</td>\n",
              "      <td>Occasional phlegm experienced by patient. fati...</td>\n",
              "      <td>Common Cold</td>\n",
              "    </tr>\n",
              "  </tbody>\n",
              "</table>\n",
              "</div>\n",
              "      <button class=\"colab-df-convert\" onclick=\"convertToInteractive('df-d557ca56-16fe-437d-b45b-d492047e3423')\"\n",
              "              title=\"Convert this dataframe to an interactive table.\"\n",
              "              style=\"display:none;\">\n",
              "        \n",
              "  <svg xmlns=\"http://www.w3.org/2000/svg\" height=\"24px\"viewBox=\"0 0 24 24\"\n",
              "       width=\"24px\">\n",
              "    <path d=\"M0 0h24v24H0V0z\" fill=\"none\"/>\n",
              "    <path d=\"M18.56 5.44l.94 2.06.94-2.06 2.06-.94-2.06-.94-.94-2.06-.94 2.06-2.06.94zm-11 1L8.5 8.5l.94-2.06 2.06-.94-2.06-.94L8.5 2.5l-.94 2.06-2.06.94zm10 10l.94 2.06.94-2.06 2.06-.94-2.06-.94-.94-2.06-.94 2.06-2.06.94z\"/><path d=\"M17.41 7.96l-1.37-1.37c-.4-.4-.92-.59-1.43-.59-.52 0-1.04.2-1.43.59L10.3 9.45l-7.72 7.72c-.78.78-.78 2.05 0 2.83L4 21.41c.39.39.9.59 1.41.59.51 0 1.02-.2 1.41-.59l7.78-7.78 2.81-2.81c.8-.78.8-2.07 0-2.86zM5.41 20L4 18.59l7.72-7.72 1.47 1.35L5.41 20z\"/>\n",
              "  </svg>\n",
              "      </button>\n",
              "      \n",
              "  <style>\n",
              "    .colab-df-container {\n",
              "      display:flex;\n",
              "      flex-wrap:wrap;\n",
              "      gap: 12px;\n",
              "    }\n",
              "\n",
              "    .colab-df-convert {\n",
              "      background-color: #E8F0FE;\n",
              "      border: none;\n",
              "      border-radius: 50%;\n",
              "      cursor: pointer;\n",
              "      display: none;\n",
              "      fill: #1967D2;\n",
              "      height: 32px;\n",
              "      padding: 0 0 0 0;\n",
              "      width: 32px;\n",
              "    }\n",
              "\n",
              "    .colab-df-convert:hover {\n",
              "      background-color: #E2EBFA;\n",
              "      box-shadow: 0px 1px 2px rgba(60, 64, 67, 0.3), 0px 1px 3px 1px rgba(60, 64, 67, 0.15);\n",
              "      fill: #174EA6;\n",
              "    }\n",
              "\n",
              "    [theme=dark] .colab-df-convert {\n",
              "      background-color: #3B4455;\n",
              "      fill: #D2E3FC;\n",
              "    }\n",
              "\n",
              "    [theme=dark] .colab-df-convert:hover {\n",
              "      background-color: #434B5C;\n",
              "      box-shadow: 0px 1px 3px 1px rgba(0, 0, 0, 0.15);\n",
              "      filter: drop-shadow(0px 1px 2px rgba(0, 0, 0, 0.3));\n",
              "      fill: #FFFFFF;\n",
              "    }\n",
              "  </style>\n",
              "\n",
              "      <script>\n",
              "        const buttonEl =\n",
              "          document.querySelector('#df-d557ca56-16fe-437d-b45b-d492047e3423 button.colab-df-convert');\n",
              "        buttonEl.style.display =\n",
              "          google.colab.kernel.accessAllowed ? 'block' : 'none';\n",
              "\n",
              "        async function convertToInteractive(key) {\n",
              "          const element = document.querySelector('#df-d557ca56-16fe-437d-b45b-d492047e3423');\n",
              "          const dataTable =\n",
              "            await google.colab.kernel.invokeFunction('convertToInteractive',\n",
              "                                                     [key], {});\n",
              "          if (!dataTable) return;\n",
              "\n",
              "          const docLinkHtml = 'Like what you see? Visit the ' +\n",
              "            '<a target=\"_blank\" href=https://colab.research.google.com/notebooks/data_table.ipynb>data table notebook</a>'\n",
              "            + ' to learn more about interactive tables.';\n",
              "          element.innerHTML = '';\n",
              "          dataTable['output_type'] = 'display_data';\n",
              "          await google.colab.output.renderOutput(dataTable, element);\n",
              "          const docLink = document.createElement('div');\n",
              "          docLink.innerHTML = docLinkHtml;\n",
              "          element.appendChild(docLink);\n",
              "        }\n",
              "      </script>\n",
              "    </div>\n",
              "  </div>\n",
              "  "
            ]
          },
          "metadata": {},
          "execution_count": 3
        }
      ]
    },
    {
      "cell_type": "code",
      "source": [
        "nltk.download('punkt')\n",
        "nltk.download('wordnet')\n",
        "nltk.download('omw-1.4')\n",
        "\n",
        "def clean_txt(docs):\n",
        "    lemmatizer = WordNetLemmatizer() \n",
        "    # splitting into words\n",
        "    speech_words = nltk.word_tokenize(docs)\n",
        "    # converting to lower case\n",
        "    lower_text = [w.lower() for w in speech_words]\n",
        "    # preparing regex for char filtering\n",
        "    re_punc = re.compile('[%s]' % re.escape(string.punctuation))\n",
        "    # removing punctuation from each word\n",
        "    stripped = [re_punc.sub('', w) for w in lower_text]\n",
        "    # removing remaining tokens that are not alphabetic\n",
        "    words = [word for word in stripped if word.isalpha()]\n",
        "    # filtering out stop words\n",
        "    words = [w for w in words if not w in  list(STOP_WORDS)]\n",
        "    # filtering out short tokens\n",
        "    words = [word for word in words if len(word) > 2]\n",
        "    #Stemming all the words in the sentence\n",
        "    lem_words = [lemmatizer.lemmatize(word) for word in words]\n",
        "    combined_text = ' '.join(lem_words)\n",
        "    return combined_text\n",
        "\n",
        "# Cleaning the text data\n",
        "data['cleaned_phrase'] = data['symptoms'].apply(clean_txt)\n",
        "data"
      ],
      "metadata": {
        "colab": {
          "base_uri": "https://localhost:8080/",
          "height": 528
        },
        "id": "h4TuYb5GO44c",
        "outputId": "f8bd6e8c-1039-400f-e057-1d54c2ed36e7"
      },
      "execution_count": 4,
      "outputs": [
        {
          "output_type": "stream",
          "name": "stderr",
          "text": [
            "[nltk_data] Downloading package punkt to /root/nltk_data...\n",
            "[nltk_data]   Package punkt is already up-to-date!\n",
            "[nltk_data] Downloading package wordnet to /root/nltk_data...\n",
            "[nltk_data]   Package wordnet is already up-to-date!\n",
            "[nltk_data] Downloading package omw-1.4 to /root/nltk_data...\n",
            "[nltk_data]   Package omw-1.4 is already up-to-date!\n"
          ]
        },
        {
          "output_type": "execute_result",
          "data": {
            "text/plain": [
              "      Unnamed: 0                                           symptoms  \\\n",
              "0              0  blurred and distorted vision over the last few...   \n",
              "1              1  Patient reports no nausea. Patient is experien...   \n",
              "2              2  Mild case of joint pain. Occasional fatigue ex...   \n",
              "3              3  Issues of frequent high fever. Reported signs ...   \n",
              "4              4  Occasional phlegm experienced by patient. fati...   \n",
              "...          ...                                                ...   \n",
              "4957        4957  weakness in limbs over the last few days. Repo...   \n",
              "4958        4958  Patient is experiencing neck pain. constipatio...   \n",
              "4959        4959  Patient is experiencing distention of abdomen....   \n",
              "4960        4960  hip joint pain over the last few days. Reporte...   \n",
              "4961        4961  No evidence of hip joint pain seen. Reported s...   \n",
              "\n",
              "                 prognosis                                     cleaned_phrase  \n",
              "0                 Diabetes  blurred distorted vision day polyuria reported...  \n",
              "1                 Migraine  patient report nausea patient experiencing ind...  \n",
              "2              Hepatitis E  mild case joint pain occasional fatigue experi...  \n",
              "3                 Impetigo  issue frequent high fever reported sign red so...  \n",
              "4              Common Cold  occasional phlegm experienced patient fatigue ...  \n",
              "...                    ...                                                ...  \n",
              "4957  Cervical spondylosis  weakness limb day reported sign neck pain evid...  \n",
              "4958       Osteoarthristis  patient experiencing neck pain constipation pr...  \n",
              "4959   Alcoholic hepatitis  patient experiencing distention abdomen consti...  \n",
              "4960       Osteoarthristis  hip joint pain day reported sign joint pain ev...  \n",
              "4961           Hepatitis B  evidence hip joint pain seen reported sign mal...  \n",
              "\n",
              "[4962 rows x 4 columns]"
            ],
            "text/html": [
              "\n",
              "  <div id=\"df-93de4bdd-36d1-41c6-8d1f-de7973e22bbb\">\n",
              "    <div class=\"colab-df-container\">\n",
              "      <div>\n",
              "<style scoped>\n",
              "    .dataframe tbody tr th:only-of-type {\n",
              "        vertical-align: middle;\n",
              "    }\n",
              "\n",
              "    .dataframe tbody tr th {\n",
              "        vertical-align: top;\n",
              "    }\n",
              "\n",
              "    .dataframe thead th {\n",
              "        text-align: right;\n",
              "    }\n",
              "</style>\n",
              "<table border=\"1\" class=\"dataframe\">\n",
              "  <thead>\n",
              "    <tr style=\"text-align: right;\">\n",
              "      <th></th>\n",
              "      <th>Unnamed: 0</th>\n",
              "      <th>symptoms</th>\n",
              "      <th>prognosis</th>\n",
              "      <th>cleaned_phrase</th>\n",
              "    </tr>\n",
              "  </thead>\n",
              "  <tbody>\n",
              "    <tr>\n",
              "      <th>0</th>\n",
              "      <td>0</td>\n",
              "      <td>blurred and distorted vision over the last few...</td>\n",
              "      <td>Diabetes</td>\n",
              "      <td>blurred distorted vision day polyuria reported...</td>\n",
              "    </tr>\n",
              "    <tr>\n",
              "      <th>1</th>\n",
              "      <td>1</td>\n",
              "      <td>Patient reports no nausea. Patient is experien...</td>\n",
              "      <td>Migraine</td>\n",
              "      <td>patient report nausea patient experiencing ind...</td>\n",
              "    </tr>\n",
              "    <tr>\n",
              "      <th>2</th>\n",
              "      <td>2</td>\n",
              "      <td>Mild case of joint pain. Occasional fatigue ex...</td>\n",
              "      <td>Hepatitis E</td>\n",
              "      <td>mild case joint pain occasional fatigue experi...</td>\n",
              "    </tr>\n",
              "    <tr>\n",
              "      <th>3</th>\n",
              "      <td>3</td>\n",
              "      <td>Issues of frequent high fever. Reported signs ...</td>\n",
              "      <td>Impetigo</td>\n",
              "      <td>issue frequent high fever reported sign red so...</td>\n",
              "    </tr>\n",
              "    <tr>\n",
              "      <th>4</th>\n",
              "      <td>4</td>\n",
              "      <td>Occasional phlegm experienced by patient. fati...</td>\n",
              "      <td>Common Cold</td>\n",
              "      <td>occasional phlegm experienced patient fatigue ...</td>\n",
              "    </tr>\n",
              "    <tr>\n",
              "      <th>...</th>\n",
              "      <td>...</td>\n",
              "      <td>...</td>\n",
              "      <td>...</td>\n",
              "      <td>...</td>\n",
              "    </tr>\n",
              "    <tr>\n",
              "      <th>4957</th>\n",
              "      <td>4957</td>\n",
              "      <td>weakness in limbs over the last few days. Repo...</td>\n",
              "      <td>Cervical spondylosis</td>\n",
              "      <td>weakness limb day reported sign neck pain evid...</td>\n",
              "    </tr>\n",
              "    <tr>\n",
              "      <th>4958</th>\n",
              "      <td>4958</td>\n",
              "      <td>Patient is experiencing neck pain. constipatio...</td>\n",
              "      <td>Osteoarthristis</td>\n",
              "      <td>patient experiencing neck pain constipation pr...</td>\n",
              "    </tr>\n",
              "    <tr>\n",
              "      <th>4959</th>\n",
              "      <td>4959</td>\n",
              "      <td>Patient is experiencing distention of abdomen....</td>\n",
              "      <td>Alcoholic hepatitis</td>\n",
              "      <td>patient experiencing distention abdomen consti...</td>\n",
              "    </tr>\n",
              "    <tr>\n",
              "      <th>4960</th>\n",
              "      <td>4960</td>\n",
              "      <td>hip joint pain over the last few days. Reporte...</td>\n",
              "      <td>Osteoarthristis</td>\n",
              "      <td>hip joint pain day reported sign joint pain ev...</td>\n",
              "    </tr>\n",
              "    <tr>\n",
              "      <th>4961</th>\n",
              "      <td>4961</td>\n",
              "      <td>No evidence of hip joint pain seen. Reported s...</td>\n",
              "      <td>Hepatitis B</td>\n",
              "      <td>evidence hip joint pain seen reported sign mal...</td>\n",
              "    </tr>\n",
              "  </tbody>\n",
              "</table>\n",
              "<p>4962 rows × 4 columns</p>\n",
              "</div>\n",
              "      <button class=\"colab-df-convert\" onclick=\"convertToInteractive('df-93de4bdd-36d1-41c6-8d1f-de7973e22bbb')\"\n",
              "              title=\"Convert this dataframe to an interactive table.\"\n",
              "              style=\"display:none;\">\n",
              "        \n",
              "  <svg xmlns=\"http://www.w3.org/2000/svg\" height=\"24px\"viewBox=\"0 0 24 24\"\n",
              "       width=\"24px\">\n",
              "    <path d=\"M0 0h24v24H0V0z\" fill=\"none\"/>\n",
              "    <path d=\"M18.56 5.44l.94 2.06.94-2.06 2.06-.94-2.06-.94-.94-2.06-.94 2.06-2.06.94zm-11 1L8.5 8.5l.94-2.06 2.06-.94-2.06-.94L8.5 2.5l-.94 2.06-2.06.94zm10 10l.94 2.06.94-2.06 2.06-.94-2.06-.94-.94-2.06-.94 2.06-2.06.94z\"/><path d=\"M17.41 7.96l-1.37-1.37c-.4-.4-.92-.59-1.43-.59-.52 0-1.04.2-1.43.59L10.3 9.45l-7.72 7.72c-.78.78-.78 2.05 0 2.83L4 21.41c.39.39.9.59 1.41.59.51 0 1.02-.2 1.41-.59l7.78-7.78 2.81-2.81c.8-.78.8-2.07 0-2.86zM5.41 20L4 18.59l7.72-7.72 1.47 1.35L5.41 20z\"/>\n",
              "  </svg>\n",
              "      </button>\n",
              "      \n",
              "  <style>\n",
              "    .colab-df-container {\n",
              "      display:flex;\n",
              "      flex-wrap:wrap;\n",
              "      gap: 12px;\n",
              "    }\n",
              "\n",
              "    .colab-df-convert {\n",
              "      background-color: #E8F0FE;\n",
              "      border: none;\n",
              "      border-radius: 50%;\n",
              "      cursor: pointer;\n",
              "      display: none;\n",
              "      fill: #1967D2;\n",
              "      height: 32px;\n",
              "      padding: 0 0 0 0;\n",
              "      width: 32px;\n",
              "    }\n",
              "\n",
              "    .colab-df-convert:hover {\n",
              "      background-color: #E2EBFA;\n",
              "      box-shadow: 0px 1px 2px rgba(60, 64, 67, 0.3), 0px 1px 3px 1px rgba(60, 64, 67, 0.15);\n",
              "      fill: #174EA6;\n",
              "    }\n",
              "\n",
              "    [theme=dark] .colab-df-convert {\n",
              "      background-color: #3B4455;\n",
              "      fill: #D2E3FC;\n",
              "    }\n",
              "\n",
              "    [theme=dark] .colab-df-convert:hover {\n",
              "      background-color: #434B5C;\n",
              "      box-shadow: 0px 1px 3px 1px rgba(0, 0, 0, 0.15);\n",
              "      filter: drop-shadow(0px 1px 2px rgba(0, 0, 0, 0.3));\n",
              "      fill: #FFFFFF;\n",
              "    }\n",
              "  </style>\n",
              "\n",
              "      <script>\n",
              "        const buttonEl =\n",
              "          document.querySelector('#df-93de4bdd-36d1-41c6-8d1f-de7973e22bbb button.colab-df-convert');\n",
              "        buttonEl.style.display =\n",
              "          google.colab.kernel.accessAllowed ? 'block' : 'none';\n",
              "\n",
              "        async function convertToInteractive(key) {\n",
              "          const element = document.querySelector('#df-93de4bdd-36d1-41c6-8d1f-de7973e22bbb');\n",
              "          const dataTable =\n",
              "            await google.colab.kernel.invokeFunction('convertToInteractive',\n",
              "                                                     [key], {});\n",
              "          if (!dataTable) return;\n",
              "\n",
              "          const docLinkHtml = 'Like what you see? Visit the ' +\n",
              "            '<a target=\"_blank\" href=https://colab.research.google.com/notebooks/data_table.ipynb>data table notebook</a>'\n",
              "            + ' to learn more about interactive tables.';\n",
              "          element.innerHTML = '';\n",
              "          dataTable['output_type'] = 'display_data';\n",
              "          await google.colab.output.renderOutput(dataTable, element);\n",
              "          const docLink = document.createElement('div');\n",
              "          docLink.innerHTML = docLinkHtml;\n",
              "          element.appendChild(docLink);\n",
              "        }\n",
              "      </script>\n",
              "    </div>\n",
              "  </div>\n",
              "  "
            ]
          },
          "metadata": {},
          "execution_count": 4
        }
      ]
    },
    {
      "cell_type": "markdown",
      "source": [
        "# Normalization of data and pipeline for models"
      ],
      "metadata": {
        "id": "-fv4lyfqelCR"
      }
    },
    {
      "cell_type": "code",
      "source": [
        "def NormalizedTextModel(nameOfvect):\n",
        "    if nameOfvect == 'countvect':\n",
        "        vectorizer = CountVectorizer()\n",
        "    elif nameOfvect =='tfvect':\n",
        "        vectorizer = TfidfVectorizer()\n",
        "\n",
        "    pipelines = []\n",
        "    pipelines.append((nameOfvect+'KNN' , Pipeline([('Vectorizer', vectorizer),('KNN' , KNeighborsClassifier())])))\n",
        "    pipelines.append((nameOfvect+'CART', Pipeline([('Vectorizer', vectorizer),('CART', DecisionTreeClassifier())])))\n",
        "    pipelines.append((nameOfvect+'RF'  , Pipeline([('Vectorizer', vectorizer),('RF'  , RandomForestClassifier())])))\n",
        "    pipelines.append((nameOfvect+'SGD'  , Pipeline([('Vectorizer', vectorizer),('SGD'  , SGDClassifier())])))\n",
        "    pipelines.append((nameOfvect+'OVRC'  , Pipeline([('Vectorizer', vectorizer),('OVRC'  , OneVsRestClassifier(LogisticRegression()))])))\n",
        "    pipelines.append((nameOfvect+'Bagging'  , Pipeline([('Vectorizer', vectorizer),('Bagging'  , BaggingClassifier())])))\n",
        "    return pipelines\n",
        "\n",
        "# Traing model \n",
        "def fit_model(X_train, y_train,models):\n",
        "    # Test options and evaluation metric\n",
        "    num_folds = 10\n",
        "    scoring = 'accuracy'\n",
        "\n",
        "    results = []\n",
        "    names = []\n",
        "    for name, model in models:\n",
        "        kfold = KFold(n_splits=num_folds)\n",
        "        cv_results = cross_val_score(model, X_train, y_train, cv=kfold, scoring=scoring)\n",
        "        results.append(cv_results)\n",
        "        names.append(name)\n",
        "        msg = \"%s: %f (%f)\" % (name, cv_results.mean(), cv_results.std())\n",
        "        print(msg)\n",
        "\n",
        "# Split data to training and validation set\n",
        "def read_in_and_split_data(data, features,target):\n",
        "    X = data[features]\n",
        "    y = data[target]\n",
        "    X_train, X_test, y_train, y_test = train_test_split(X,y,test_size=0.2, random_state=0)\n",
        "    return X_train, X_test, y_train, y_test\n",
        "\n",
        "X = 'cleaned_phrase'\n",
        "target_class = 'prognosis'\n",
        "X_train, X_test, y_train, y_test = read_in_and_split_data(data, X, target_class)"
      ],
      "metadata": {
        "id": "SU_c9Jw9O_7h"
      },
      "execution_count": 5,
      "outputs": []
    },
    {
      "cell_type": "markdown",
      "source": [
        "# Model behaviour using CountVectorizer"
      ],
      "metadata": {
        "id": "97XMo2d1et7n"
      }
    },
    {
      "cell_type": "code",
      "source": [
        "sample_text_count = X_train[:10]\n",
        "# create the transform\n",
        "vectorizer = CountVectorizer()\n",
        "# tokenize and build vocab\n",
        "vectorizer.fit(sample_text_count)\n",
        "# summarize\n",
        "print(vectorizer.vocabulary_)\n",
        "# encode document\n",
        "vector = vectorizer.transform(sample_text_count)\n",
        "# summarize encoded vector\n",
        "print(vector.shape)\n",
        "print(type(vector))\n",
        "print(vector.toarray())"
      ],
      "metadata": {
        "colab": {
          "base_uri": "https://localhost:8080/"
        },
        "id": "Y0YLaMqQPeIO",
        "outputId": "6d3e33fc-e698-4d8b-e34a-09d8bbe3fc45"
      },
      "execution_count": 6,
      "outputs": [
        {
          "output_type": "stream",
          "name": "stdout",
          "text": [
            "{'occasional': 66, 'palpitation': 70, 'experienced': 29, 'patient': 71, 'report': 80, 'acidity': 2, 'nausea': 61, 'day': 19, 'issue': 47, 'frequent': 37, 'excessive': 28, 'hunger': 42, 'fatigue': 34, 'cough': 16, 'anxiety': 4, 'drying': 24, 'tingling': 106, 'lip': 51, 'itching': 48, 'reported': 81, 'sign': 85, 'headache': 40, 'sporadic': 93, 'slurred': 88, 'speech': 92, 'vomiting': 114, 'experiencing': 30, 'sweating': 99, 'irritability': 45, 'continuous': 15, 'sneezing': 90, 'present': 73, 'stiff': 95, 'neck': 62, 'movement': 58, 'stiffness': 96, 'painful': 69, 'walking': 115, 'evidence': 27, 'diarrhoea': 21, 'seen': 84, 'swelling': 101, 'joint': 49, 'muscle': 59, 'weakness': 117, 'mild': 56, 'case': 10, 'lethargy': 50, 'yellow': 119, 'urine': 112, 'receiving': 76, 'unsterile': 110, 'injection': 44, 'loss': 52, 'appetite': 5, 'dark': 18, 'blood': 7, 'transfusion': 108, 'malaise': 54, 'yellowing': 120, 'eye': 32, 'yellowish': 121, 'skin': 87, 'wasting': 116, 'weight': 118, 'pain': 68, 'anal': 3, 'region': 79, 'swelled': 100, 'lymph': 53, 'node': 64, 'abdominal': 0, 'high': 41, 'fever': 36, 'stomach': 97, 'nodal': 63, 'eruption': 26, 'ulcer': 109, 'tongue': 107, 'puffy': 75, 'face': 33, 'mood': 57, 'swing': 102, 'abnormal': 1, 'menstruation': 55, 'breathlessness': 8, 'swollen': 103, 'extremeties': 31, 'brittle': 9, 'nail': 60, 'dizziness': 23, 'cold': 13, 'hand': 39, 'feets': 35, 'enlarged': 25, 'thyroid': 105, 'depression': 20, 'gain': 38, 'indigestion': 43, 'visual': 113, 'disturbance': 22, 'sunken': 98, 'sinus': 86, 'pressure': 74, 'congestion': 14, 'smell': 89, 'redness': 78, 'chest': 11, 'restlessness': 82, 'chill': 12, 'phlegm': 72, 'throat': 104, 'irritation': 46, 'runny': 83, 'nose': 65, 'red': 77, 'sore': 91, 'spotting': 94, 'urination': 111, 'crust': 17, 'ooze': 67, 'blister': 6}\n",
            "(10, 122)\n",
            "<class 'scipy.sparse.csr.csr_matrix'>\n",
            "[[0 0 1 ... 0 0 0]\n",
            " [0 0 0 ... 0 0 0]\n",
            " [0 0 0 ... 1 1 1]\n",
            " ...\n",
            " [0 0 0 ... 0 0 0]\n",
            " [0 0 1 ... 1 0 0]\n",
            " [0 0 0 ... 0 0 0]]\n"
          ]
        }
      ]
    },
    {
      "cell_type": "code",
      "source": [
        "models = NormalizedTextModel('countvect')\n",
        "fit_model(X_train, y_train, models)"
      ],
      "metadata": {
        "colab": {
          "base_uri": "https://localhost:8080/"
        },
        "id": "wqYb7cbfPhYR",
        "outputId": "90f21925-cf9a-46d5-b701-3b0890847170"
      },
      "execution_count": 7,
      "outputs": [
        {
          "output_type": "stream",
          "name": "stdout",
          "text": [
            "countvectKNN: 0.975560 (0.009761)\n",
            "countvectCART: 0.954147 (0.007778)\n",
            "countvectRF: 0.996724 (0.004224)\n",
            "countvectSGD: 0.996976 (0.002197)\n",
            "countvectOVRC: 0.999244 (0.001613)\n",
            "countvectBagging: 0.982868 (0.006351)\n"
          ]
        }
      ]
    },
    {
      "cell_type": "markdown",
      "source": [
        "# Model Behaviour Using Tfid"
      ],
      "metadata": {
        "id": "438LPbvoe3CQ"
      }
    },
    {
      "cell_type": "code",
      "source": [
        "sample_text_Tfid = X_train[:10]\n",
        "\n",
        "vectorizer = TfidfVectorizer()\n",
        "\n",
        "vectorizer.fit(sample_text_Tfid)\n",
        "\n",
        "print(vectorizer.vocabulary_)\n",
        "print(vectorizer.idf_)\n",
        "\n",
        "vector = vectorizer.transform(sample_text_Tfid)\n",
        "\n",
        "print(vector.shape)\n",
        "print(vector.toarray())"
      ],
      "metadata": {
        "colab": {
          "base_uri": "https://localhost:8080/"
        },
        "id": "8QGTee3QPkEy",
        "outputId": "7c5dd652-67c6-4f05-af94-f0e215c34102"
      },
      "execution_count": 8,
      "outputs": [
        {
          "output_type": "stream",
          "name": "stdout",
          "text": [
            "{'occasional': 66, 'palpitation': 70, 'experienced': 29, 'patient': 71, 'report': 80, 'acidity': 2, 'nausea': 61, 'day': 19, 'issue': 47, 'frequent': 37, 'excessive': 28, 'hunger': 42, 'fatigue': 34, 'cough': 16, 'anxiety': 4, 'drying': 24, 'tingling': 106, 'lip': 51, 'itching': 48, 'reported': 81, 'sign': 85, 'headache': 40, 'sporadic': 93, 'slurred': 88, 'speech': 92, 'vomiting': 114, 'experiencing': 30, 'sweating': 99, 'irritability': 45, 'continuous': 15, 'sneezing': 90, 'present': 73, 'stiff': 95, 'neck': 62, 'movement': 58, 'stiffness': 96, 'painful': 69, 'walking': 115, 'evidence': 27, 'diarrhoea': 21, 'seen': 84, 'swelling': 101, 'joint': 49, 'muscle': 59, 'weakness': 117, 'mild': 56, 'case': 10, 'lethargy': 50, 'yellow': 119, 'urine': 112, 'receiving': 76, 'unsterile': 110, 'injection': 44, 'loss': 52, 'appetite': 5, 'dark': 18, 'blood': 7, 'transfusion': 108, 'malaise': 54, 'yellowing': 120, 'eye': 32, 'yellowish': 121, 'skin': 87, 'wasting': 116, 'weight': 118, 'pain': 68, 'anal': 3, 'region': 79, 'swelled': 100, 'lymph': 53, 'node': 64, 'abdominal': 0, 'high': 41, 'fever': 36, 'stomach': 97, 'nodal': 63, 'eruption': 26, 'ulcer': 109, 'tongue': 107, 'puffy': 75, 'face': 33, 'mood': 57, 'swing': 102, 'abnormal': 1, 'menstruation': 55, 'breathlessness': 8, 'swollen': 103, 'extremeties': 31, 'brittle': 9, 'nail': 60, 'dizziness': 23, 'cold': 13, 'hand': 39, 'feets': 35, 'enlarged': 25, 'thyroid': 105, 'depression': 20, 'gain': 38, 'indigestion': 43, 'visual': 113, 'disturbance': 22, 'sunken': 98, 'sinus': 86, 'pressure': 74, 'congestion': 14, 'smell': 89, 'redness': 78, 'chest': 11, 'restlessness': 82, 'chill': 12, 'phlegm': 72, 'throat': 104, 'irritation': 46, 'runny': 83, 'nose': 65, 'red': 77, 'sore': 91, 'spotting': 94, 'urination': 111, 'crust': 17, 'ooze': 67, 'blister': 6}\n",
            "[2.29928298 2.70474809 2.01160091 2.70474809 2.29928298 2.70474809\n",
            " 2.70474809 2.70474809 2.29928298 2.70474809 1.78845736 2.70474809\n",
            " 2.70474809 2.29928298 2.70474809 2.01160091 2.29928298 2.70474809\n",
            " 2.01160091 1.45198512 2.29928298 2.70474809 2.70474809 2.70474809\n",
            " 2.70474809 2.70474809 2.70474809 1.6061358  2.29928298 1.31845373\n",
            " 1.6061358  2.70474809 2.01160091 2.70474809 1.45198512 2.29928298\n",
            " 1.78845736 1.09531018 2.70474809 2.29928298 2.01160091 1.78845736\n",
            " 2.29928298 2.70474809 2.70474809 2.01160091 2.70474809 1.09531018\n",
            " 1.6061358  1.78845736 2.29928298 2.70474809 1.78845736 2.29928298\n",
            " 2.29928298 2.70474809 1.78845736 2.70474809 2.29928298 1.78845736\n",
            " 2.70474809 2.29928298 2.01160091 2.70474809 2.29928298 2.29928298\n",
            " 1.31845373 2.70474809 1.6061358  2.29928298 2.70474809 1.2006707\n",
            " 2.70474809 1.31845373 2.70474809 2.70474809 2.70474809 2.70474809\n",
            " 2.70474809 2.70474809 1.6061358  1.2006707  2.29928298 2.70474809\n",
            " 1.6061358  1.2006707  2.70474809 2.01160091 2.70474809 2.70474809\n",
            " 2.01160091 2.70474809 2.70474809 1.         2.70474809 2.01160091\n",
            " 2.29928298 2.01160091 2.70474809 2.29928298 2.29928298 2.29928298\n",
            " 2.70474809 2.70474809 2.70474809 2.70474809 2.70474809 2.70474809\n",
            " 2.70474809 2.70474809 2.70474809 2.70474809 2.01160091 2.70474809\n",
            " 1.6061358  2.29928298 2.70474809 2.29928298 2.01160091 2.29928298\n",
            " 2.70474809 2.01160091]\n",
            "(10, 122)\n",
            "[[0.         0.         0.13150115 ... 0.         0.         0.        ]\n",
            " [0.         0.         0.         ... 0.         0.         0.        ]\n",
            " [0.         0.         0.         ... 0.14272332 0.16789174 0.12486604]\n",
            " ...\n",
            " [0.         0.         0.         ... 0.         0.         0.        ]\n",
            " [0.         0.         0.19949612 ... 0.22802636 0.         0.        ]\n",
            " [0.         0.         0.         ... 0.         0.         0.        ]]\n"
          ]
        }
      ]
    },
    {
      "cell_type": "code",
      "source": [
        "models = NormalizedTextModel('tfvect')\n",
        "fit_model(X_train, y_train, models)"
      ],
      "metadata": {
        "colab": {
          "base_uri": "https://localhost:8080/"
        },
        "id": "Gpqdl6txSrXE",
        "outputId": "e538e4bf-1612-4351-fa90-09ad1fd1953e"
      },
      "execution_count": 9,
      "outputs": [
        {
          "output_type": "stream",
          "name": "stdout",
          "text": [
            "tfvectKNN: 0.981103 (0.006689)\n",
            "tfvectCART: 0.953641 (0.012754)\n",
            "tfvectRF: 0.994205 (0.004222)\n",
            "tfvectSGD: 0.997984 (0.001885)\n",
            "tfvectOVRC: 0.994962 (0.004362)\n",
            "tfvectBagging: 0.982618 (0.008233)\n"
          ]
        }
      ]
    },
    {
      "cell_type": "markdown",
      "source": [
        "# Logistic Regression model(OVRC) Fine tuning "
      ],
      "metadata": {
        "id": "23DNQXnle7eI"
      }
    },
    {
      "cell_type": "code",
      "source": [
        "vectorizer = CountVectorizer()\n",
        "X_train_1 = vectorizer.fit_transform(X_train)\n",
        "model = OneVsRestClassifier(LogisticRegression())\n",
        "\n",
        "parameters = {\n",
        "    'estimator__C': [100, 10, 1, 0.1, 0.01, 0.001, 0.0001]\n",
        "}\n",
        "\n",
        "cv = KFold(n_splits=10)\n",
        "\n",
        "model_tunning = GridSearchCV(model, param_grid=parameters,\n",
        "                            scoring='f1_weighted', cv=cv)\n",
        "\n",
        "model_tunning.fit(X_train_1, y_train)\n",
        "\n",
        "print (model_tunning.best_score_)\n",
        "print (model_tunning.best_params_)"
      ],
      "metadata": {
        "colab": {
          "base_uri": "https://localhost:8080/"
        },
        "id": "jICw0qo0SusX",
        "outputId": "ea619fc5-212c-41ce-e29a-b7b520c49448"
      },
      "execution_count": 10,
      "outputs": [
        {
          "output_type": "stream",
          "name": "stdout",
          "text": [
            "0.9994978699012826\n",
            "{'estimator__C': 0.1}\n"
          ]
        }
      ]
    },
    {
      "cell_type": "code",
      "source": [
        "def classification_metrics(model, y_test, y_pred):\n",
        "    print(f\"Training Accuracy Score: {model.score(X_train, y_train) * 100:.1f}%\")\n",
        "    print(f\"Validation Accuracy Score: {model.score(X_test, y_test) * 100:.1f}%\")\n",
        "    \n",
        "    conf_matrix = confusion_matrix(y_test, y_pred)\n",
        "    fig,ax = plt.subplots(figsize=(8,6))\n",
        "    sns.heatmap(pd.DataFrame(conf_matrix), annot = True, cmap = 'YlGnBu',fmt = 'g')\n",
        "    ax.xaxis.set_label_position('top')\n",
        "    plt.tight_layout()\n",
        "    plt.title('Confusion matrix', fontsize=20, y=1.1)\n",
        "    plt.ylabel('Actual label', fontsize=15)\n",
        "    plt.xlabel('Predicted label', fontsize=15)\n",
        "    plt.show()\n",
        "    print(classification_report(y_test, y_pred))\n",
        "\n",
        "text_clf = Pipeline([('vect', CountVectorizer()),('OVRC'  , OneVsRestClassifier(LogisticRegression(C=0.1)))])\n",
        "model = text_clf.fit(X_train, y_train)\n",
        "y_pred = model.predict(X_test)\n",
        "classification_metrics(model,y_test, y_pred)"
      ],
      "metadata": {
        "id": "wh8b83jBWTrb",
        "colab": {
          "base_uri": "https://localhost:8080/",
          "height": 1000
        },
        "outputId": "c54c296c-af4c-4349-d403-2b985713c9ae"
      },
      "execution_count": 11,
      "outputs": [
        {
          "output_type": "stream",
          "name": "stdout",
          "text": [
            "Training Accuracy Score: 100.0%\n",
            "Validation Accuracy Score: 99.9%\n"
          ]
        },
        {
          "output_type": "display_data",
          "data": {
            "text/plain": [
              "<Figure size 576x432 with 2 Axes>"
            ],
            "image/png": "[encoded data removed]"
          },
          "metadata": {
            "needs_background": "light"
          }
        },
        {
          "output_type": "stream",
          "name": "stdout",
          "text": [
            "                                         precision    recall  f1-score   support\n",
            "\n",
            "(vertigo) Paroymsal  Positional Vertigo       1.00      1.00      1.00        25\n",
            "                                   AIDS       1.00      1.00      1.00        25\n",
            "                                   Acne       1.00      1.00      1.00        30\n",
            "                    Alcoholic hepatitis       1.00      1.00      1.00        22\n",
            "                                Allergy       1.00      1.00      1.00        23\n",
            "                              Arthritis       1.00      1.00      1.00        26\n",
            "                       Bronchial Asthma       1.00      1.00      1.00        20\n",
            "                   Cervical spondylosis       1.00      1.00      1.00        24\n",
            "                            Chicken pox       1.00      1.00      1.00        28\n",
            "                    Chronic cholestasis       1.00      1.00      1.00        18\n",
            "                            Common Cold       1.00      1.00      1.00        25\n",
            "                                 Dengue       1.00      1.00      1.00        23\n",
            "                               Diabetes       1.00      1.00      1.00        20\n",
            "           Dimorphic hemmorhoids(piles)       1.00      1.00      1.00        27\n",
            "                          Drug Reaction       1.00      1.00      1.00        29\n",
            "                       Fungal infection       1.00      1.00      1.00        21\n",
            "                                   GERD       1.00      1.00      1.00        21\n",
            "                        Gastroenteritis       1.00      1.00      1.00        24\n",
            "                           Heart attack       1.00      1.00      1.00        32\n",
            "                            Hepatitis B       1.00      1.00      1.00        17\n",
            "                            Hepatitis C       1.00      1.00      1.00        25\n",
            "                            Hepatitis D       1.00      0.97      0.98        29\n",
            "                            Hepatitis E       0.95      1.00      0.98        21\n",
            "                           Hypertension       1.00      1.00      1.00        18\n",
            "                        Hyperthyroidism       1.00      1.00      1.00        35\n",
            "                           Hypoglycemia       1.00      1.00      1.00        22\n",
            "                         Hypothyroidism       1.00      1.00      1.00        16\n",
            "                               Impetigo       1.00      1.00      1.00        29\n",
            "                               Jaundice       1.00      1.00      1.00        22\n",
            "                                Malaria       1.00      1.00      1.00        28\n",
            "                               Migraine       1.00      1.00      1.00        23\n",
            "                        Osteoarthristis       1.00      1.00      1.00        19\n",
            "           Paralysis (brain hemorrhage)       1.00      1.00      1.00        18\n",
            "                    Peptic ulcer diseae       1.00      1.00      1.00        24\n",
            "                              Pneumonia       1.00      1.00      1.00        35\n",
            "                              Psoriasis       1.00      1.00      1.00        21\n",
            "                           Tuberculosis       1.00      1.00      1.00        27\n",
            "                                Typhoid       1.00      1.00      1.00        22\n",
            "                Urinary tract infection       1.00      1.00      1.00        27\n",
            "                         Varicose veins       1.00      1.00      1.00        21\n",
            "                            hepatitis A       1.00      1.00      1.00        31\n",
            "\n",
            "                               accuracy                           1.00       993\n",
            "                              macro avg       1.00      1.00      1.00       993\n",
            "                           weighted avg       1.00      1.00      1.00       993\n",
            "\n"
          ]
        }
      ]
    },
    {
      "cell_type": "code",
      "source": [
        "a = ['joint tenderness increased pain and stiffness when you have not moved your joints for a while joints appearing slightly larger or more \"knobbly\" than usual a grating or crackling sound or sensation in your joints limited range of movement in your joints weakness and muscle wasting']\n",
        "\n",
        "a = pd.DataFrame(a)"
      ],
      "metadata": {
        "id": "QI1ckLc4aYyx"
      },
      "execution_count": 12,
      "outputs": []
    },
    {
      "cell_type": "code",
      "source": [
        "a = a[0].apply(clean_txt)"
      ],
      "metadata": {
        "id": "0UfCbcy5bzFi"
      },
      "execution_count": 13,
      "outputs": []
    },
    {
      "cell_type": "code",
      "source": [
        "pred = model.predict(a)"
      ],
      "metadata": {
        "id": "c01LG96Idi5V"
      },
      "execution_count": 14,
      "outputs": []
    },
    {
      "cell_type": "code",
      "source": [
        "pred"
      ],
      "metadata": {
        "colab": {
          "base_uri": "https://localhost:8080/"
        },
        "id": "qwFW7YH7dvmc",
        "outputId": "145e81dc-9aae-444c-8797-634eb425733b"
      },
      "execution_count": 15,
      "outputs": [
        {
          "output_type": "execute_result",
          "data": {
            "text/plain": [
              "array(['Arthritis'], dtype='<U39')"
            ]
          },
          "metadata": {},
          "execution_count": 15
        }
      ]
    },
    {
      "cell_type": "markdown",
      "source": [
        "# Bagging Classifier Fine Tuning"
      ],
      "metadata": {
        "id": "9IxSUQozhVRf"
      }
    },
    {
      "cell_type": "code",
      "source": [
        "vectorizer = TfidfVectorizer()\n",
        "X_train_1 = vectorizer.fit_transform(X_train)\n",
        "model = BaggingClassifier()\n",
        "n_estimators = [10, 100, 1000]\n",
        "\n",
        "grid = dict(n_estimators=n_estimators)\n",
        "cv = KFold(n_splits=10)\n",
        "grid_search = GridSearchCV(estimator=model, param_grid=grid, n_jobs=-1, cv=cv, scoring='accuracy')\n",
        "grid_result = grid_search.fit(X_train_1, y_train)\n",
        "\n",
        "print(\"Best: %f using %s\" % (grid_result.best_score_, grid_result.best_params_))\n",
        "means = grid_result.cv_results_['mean_test_score']\n",
        "stds = grid_result.cv_results_['std_test_score']\n",
        "params = grid_result.cv_results_['params']\n",
        "for mean, stdev, param in zip(means, stds, params):\n",
        "    print(\"%f (%f) with: %r\" % (mean, stdev, param))"
      ],
      "metadata": {
        "colab": {
          "base_uri": "https://localhost:8080/"
        },
        "id": "lDw02nxXdyPT",
        "outputId": "0bb4f75b-3f02-4635-ab60-da8a4e3c0a21"
      },
      "execution_count": 16,
      "outputs": [
        {
          "output_type": "stream",
          "name": "stdout",
          "text": [
            "Best: 0.990174 using {'n_estimators': 1000}\n",
            "0.978334 (0.006487) with: {'n_estimators': 10}\n",
            "0.988914 (0.004935) with: {'n_estimators': 100}\n",
            "0.990174 (0.003642) with: {'n_estimators': 1000}\n"
          ]
        }
      ]
    },
    {
      "cell_type": "code",
      "source": [
        "def classification_metrics(model, y_test, y_pred):\n",
        "    print(f\"Training Accuracy Score: {model.score(X_train, y_train) * 100:.1f}%\")\n",
        "    print(f\"Validation Accuracy Score: {model.score(X_test, y_test) * 100:.1f}%\")\n",
        "    \n",
        "    conf_matrix = confusion_matrix(y_test, y_pred)\n",
        "    fig,ax = plt.subplots(figsize=(8,6))\n",
        "    sns.heatmap(pd.DataFrame(conf_matrix), annot = True, cmap = 'YlGnBu',fmt = 'g')\n",
        "    ax.xaxis.set_label_position('top')\n",
        "    plt.tight_layout()\n",
        "    plt.title('Confusion matrix for Logisitic Regression Model', fontsize=20, y=1.1)\n",
        "    plt.ylabel('Actual label', fontsize=15)\n",
        "    plt.xlabel('Predicted label', fontsize=15)\n",
        "    plt.show()\n",
        "    print(classification_report(y_test, y_pred))\n",
        "\n",
        "text_clf = Pipeline([('vect', TfidfVectorizer()),('bagging', BaggingClassifier(n_estimators=1000))])\n",
        "model = text_clf.fit(X_train, y_train)\n",
        "y_pred = model.predict(X_test)\n",
        "classification_metrics(model,y_test, y_pred)"
      ],
      "metadata": {
        "id": "8dhOs9Hif-nd",
        "colab": {
          "base_uri": "https://localhost:8080/",
          "height": 1000
        },
        "outputId": "32e1604c-b7b3-46d3-9951-7ae4c8403608"
      },
      "execution_count": 17,
      "outputs": [
        {
          "output_type": "stream",
          "name": "stdout",
          "text": [
            "Training Accuracy Score: 100.0%\n",
            "Validation Accuracy Score: 99.2%\n"
          ]
        },
        {
          "output_type": "display_data",
          "data": {
            "text/plain": [
              "<Figure size 576x432 with 2 Axes>"
            ],
            "image/png": "[encoded data removed]"
          },
          "metadata": {
            "needs_background": "light"
          }
        },
        {
          "output_type": "stream",
          "name": "stdout",
          "text": [
            "                                         precision    recall  f1-score   support\n",
            "\n",
            "(vertigo) Paroymsal  Positional Vertigo       1.00      1.00      1.00        25\n",
            "                                   AIDS       0.96      1.00      0.98        25\n",
            "                                   Acne       1.00      1.00      1.00        30\n",
            "                    Alcoholic hepatitis       1.00      1.00      1.00        22\n",
            "                                Allergy       1.00      1.00      1.00        23\n",
            "                              Arthritis       1.00      1.00      1.00        26\n",
            "                       Bronchial Asthma       1.00      1.00      1.00        20\n",
            "                   Cervical spondylosis       0.96      1.00      0.98        24\n",
            "                            Chicken pox       1.00      1.00      1.00        28\n",
            "                    Chronic cholestasis       1.00      0.94      0.97        18\n",
            "                            Common Cold       1.00      1.00      1.00        25\n",
            "                                 Dengue       1.00      1.00      1.00        23\n",
            "                               Diabetes       1.00      1.00      1.00        20\n",
            "           Dimorphic hemmorhoids(piles)       1.00      1.00      1.00        27\n",
            "                          Drug Reaction       1.00      0.97      0.98        29\n",
            "                       Fungal infection       0.95      1.00      0.98        21\n",
            "                                   GERD       1.00      1.00      1.00        21\n",
            "                        Gastroenteritis       1.00      1.00      1.00        24\n",
            "                           Heart attack       1.00      1.00      1.00        32\n",
            "                            Hepatitis B       1.00      1.00      1.00        17\n",
            "                            Hepatitis C       1.00      1.00      1.00        25\n",
            "                            Hepatitis D       0.97      0.97      0.97        29\n",
            "                            Hepatitis E       1.00      1.00      1.00        21\n",
            "                           Hypertension       1.00      1.00      1.00        18\n",
            "                        Hyperthyroidism       1.00      0.97      0.99        35\n",
            "                           Hypoglycemia       1.00      1.00      1.00        22\n",
            "                         Hypothyroidism       0.94      1.00      0.97        16\n",
            "                               Impetigo       1.00      1.00      1.00        29\n",
            "                               Jaundice       0.95      0.91      0.93        22\n",
            "                                Malaria       1.00      1.00      1.00        28\n",
            "                               Migraine       1.00      1.00      1.00        23\n",
            "                        Osteoarthristis       1.00      1.00      1.00        19\n",
            "           Paralysis (brain hemorrhage)       1.00      1.00      1.00        18\n",
            "                    Peptic ulcer diseae       1.00      0.96      0.98        24\n",
            "                              Pneumonia       1.00      1.00      1.00        35\n",
            "                              Psoriasis       1.00      1.00      1.00        21\n",
            "                           Tuberculosis       1.00      1.00      1.00        27\n",
            "                                Typhoid       0.96      1.00      0.98        22\n",
            "                Urinary tract infection       0.96      1.00      0.98        27\n",
            "                         Varicose veins       1.00      1.00      1.00        21\n",
            "                            hepatitis A       1.00      0.97      0.98        31\n",
            "\n",
            "                               accuracy                           0.99       993\n",
            "                              macro avg       0.99      0.99      0.99       993\n",
            "                           weighted avg       0.99      0.99      0.99       993\n",
            "\n"
          ]
        }
      ]
    },
    {
      "cell_type": "code",
      "source": [
        "a = ['joint tenderness increased pain and stiffness when you have not moved your joints for a while joints appearing slightly larger or more \"knobbly\" than usual a grating or crackling sound or sensation in your joints limited range of movement in your joints weakness and muscle wasting']\n",
        "\n",
        "a = pd.DataFrame(a)"
      ],
      "metadata": {
        "id": "Zj1NzZ3BgBQN"
      },
      "execution_count": 18,
      "outputs": []
    },
    {
      "cell_type": "code",
      "source": [
        "a = a[0].apply(clean_txt)"
      ],
      "metadata": {
        "id": "8NN8zyeHp5Dd"
      },
      "execution_count": 19,
      "outputs": []
    },
    {
      "cell_type": "code",
      "source": [
        "pred = model.predict(a)"
      ],
      "metadata": {
        "id": "1DMUGmkEp8GZ"
      },
      "execution_count": 20,
      "outputs": []
    },
    {
      "cell_type": "code",
      "source": [
        "pred"
      ],
      "metadata": {
        "colab": {
          "base_uri": "https://localhost:8080/"
        },
        "id": "vkLCRZoRp-AZ",
        "outputId": "19ba2c1e-4aef-428e-ec5d-4a96c9f7853d"
      },
      "execution_count": 21,
      "outputs": [
        {
          "output_type": "execute_result",
          "data": {
            "text/plain": [
              "array(['Arthritis'], dtype=object)"
            ]
          },
          "metadata": {},
          "execution_count": 21
        }
      ]
    },
    {
      "cell_type": "markdown",
      "source": [
        "# Random Forest Classifier Fine Tuning"
      ],
      "metadata": {
        "id": "RlRTMsnbs7Pn"
      }
    },
    {
      "cell_type": "code",
      "source": [
        "vectorizer = CountVectorizer()\n",
        "X_train_1 = vectorizer.fit_transform(X_train)\n",
        "model = RandomForestClassifier()"
      ],
      "metadata": {
        "id": "dUXGr0kLqcy5"
      },
      "execution_count": 22,
      "outputs": []
    },
    {
      "cell_type": "code",
      "source": [
        "param_grid = { \n",
        "    'n_estimators': [200, 500],\n",
        "    'max_features': ['auto', 'sqrt', 'log2'],\n",
        "    'max_depth' : [4,5,6,7,8],\n",
        "    'criterion' :['gini', 'entropy']\n",
        "}\n",
        "\n",
        "CV_rfc = GridSearchCV(estimator=model, param_grid=param_grid, cv= 5)\n",
        "CV_rfc.fit(X_train_1, y_train)\n",
        "CV_rfc.best_params_"
      ],
      "metadata": {
        "colab": {
          "base_uri": "https://localhost:8080/"
        },
        "id": "d5Jh6oIwqgk3",
        "outputId": "66aa5363-de96-4ddf-d89b-97c010c34a59"
      },
      "execution_count": 23,
      "outputs": [
        {
          "output_type": "execute_result",
          "data": {
            "text/plain": [
              "{'criterion': 'entropy',\n",
              " 'max_depth': 8,\n",
              " 'max_features': 'log2',\n",
              " 'n_estimators': 200}"
            ]
          },
          "metadata": {},
          "execution_count": 23
        }
      ]
    },
    {
      "cell_type": "code",
      "source": [
        "def classification_metrics(model, y_test, y_pred):\n",
        "    print(f\"Training Accuracy Score: {model.score(X_train, y_train) * 100:.1f}%\")\n",
        "    print(f\"Validation Accuracy Score: {model.score(X_test, y_test) * 100:.1f}%\")\n",
        "    \n",
        "    conf_matrix = confusion_matrix(y_test, y_pred)\n",
        "    fig,ax = plt.subplots(figsize=(8,6))\n",
        "    sns.heatmap(pd.DataFrame(conf_matrix), annot = True, cmap = 'YlGnBu',fmt = 'g')\n",
        "    ax.xaxis.set_label_position('top')\n",
        "    plt.tight_layout()\n",
        "    plt.title('Confusion matrix for Logisitic Regression Model', fontsize=20, y=1.1)\n",
        "    plt.ylabel('Actual label', fontsize=15)\n",
        "    plt.xlabel('Predicted label', fontsize=15)\n",
        "    plt.show()\n",
        "    print(classification_report(y_test, y_pred))\n",
        "\n",
        "text_clf = Pipeline([('vect', CountVectorizer()),('RF' , RandomForestClassifier(max_features='log2', n_estimators= 200, max_depth=8, criterion='entropy'))])\n",
        "model = text_clf.fit(X_train, y_train)\n",
        "y_pred = model.predict(X_test)\n",
        "classification_metrics(model,y_test, y_pred)"
      ],
      "metadata": {
        "colab": {
          "base_uri": "https://localhost:8080/",
          "height": 1000
        },
        "id": "k03B3n-Xq-bK",
        "outputId": "db5a7b88-3bf5-4b3d-b367-dbe7aa05e4b4"
      },
      "execution_count": 24,
      "outputs": [
        {
          "output_type": "stream",
          "name": "stdout",
          "text": [
            "Training Accuracy Score: 99.8%\n",
            "Validation Accuracy Score: 99.5%\n"
          ]
        },
        {
          "output_type": "display_data",
          "data": {
            "text/plain": [
              "<Figure size 576x432 with 2 Axes>"
            ],
            "image/png": "[encoded data removed]"
          },
          "metadata": {
            "needs_background": "light"
          }
        },
        {
          "output_type": "stream",
          "name": "stdout",
          "text": [
            "                                         precision    recall  f1-score   support\n",
            "\n",
            "(vertigo) Paroymsal  Positional Vertigo       1.00      1.00      1.00        25\n",
            "                                   AIDS       1.00      1.00      1.00        25\n",
            "                                   Acne       1.00      1.00      1.00        30\n",
            "                    Alcoholic hepatitis       1.00      1.00      1.00        22\n",
            "                                Allergy       1.00      0.96      0.98        23\n",
            "                              Arthritis       1.00      1.00      1.00        26\n",
            "                       Bronchial Asthma       1.00      1.00      1.00        20\n",
            "                   Cervical spondylosis       0.96      1.00      0.98        24\n",
            "                            Chicken pox       1.00      1.00      1.00        28\n",
            "                    Chronic cholestasis       1.00      1.00      1.00        18\n",
            "                            Common Cold       1.00      1.00      1.00        25\n",
            "                                 Dengue       1.00      1.00      1.00        23\n",
            "                               Diabetes       1.00      1.00      1.00        20\n",
            "           Dimorphic hemmorhoids(piles)       0.96      1.00      0.98        27\n",
            "                          Drug Reaction       1.00      0.97      0.98        29\n",
            "                       Fungal infection       0.95      1.00      0.98        21\n",
            "                                   GERD       1.00      1.00      1.00        21\n",
            "                        Gastroenteritis       1.00      0.96      0.98        24\n",
            "                           Heart attack       1.00      1.00      1.00        32\n",
            "                            Hepatitis B       1.00      1.00      1.00        17\n",
            "                            Hepatitis C       1.00      1.00      1.00        25\n",
            "                            Hepatitis D       1.00      0.97      0.98        29\n",
            "                            Hepatitis E       0.91      1.00      0.95        21\n",
            "                           Hypertension       1.00      1.00      1.00        18\n",
            "                        Hyperthyroidism       1.00      1.00      1.00        35\n",
            "                           Hypoglycemia       1.00      1.00      1.00        22\n",
            "                         Hypothyroidism       1.00      1.00      1.00        16\n",
            "                               Impetigo       1.00      1.00      1.00        29\n",
            "                               Jaundice       1.00      1.00      1.00        22\n",
            "                                Malaria       1.00      1.00      1.00        28\n",
            "                               Migraine       1.00      1.00      1.00        23\n",
            "                        Osteoarthristis       1.00      1.00      1.00        19\n",
            "           Paralysis (brain hemorrhage)       1.00      1.00      1.00        18\n",
            "                    Peptic ulcer diseae       1.00      1.00      1.00        24\n",
            "                              Pneumonia       1.00      1.00      1.00        35\n",
            "                              Psoriasis       1.00      1.00      1.00        21\n",
            "                           Tuberculosis       1.00      1.00      1.00        27\n",
            "                                Typhoid       1.00      1.00      1.00        22\n",
            "                Urinary tract infection       1.00      1.00      1.00        27\n",
            "                         Varicose veins       1.00      1.00      1.00        21\n",
            "                            hepatitis A       1.00      0.97      0.98        31\n",
            "\n",
            "                               accuracy                           0.99       993\n",
            "                              macro avg       0.99      1.00      1.00       993\n",
            "                           weighted avg       1.00      0.99      0.99       993\n",
            "\n"
          ]
        }
      ]
    },
    {
      "cell_type": "code",
      "source": [
        "a = ['joint tenderness increased pain and stiffness when you have not moved your joints for a while joints appearing slightly larger or more \"knobbly\" than usual a grating or crackling sound or sensation in your joints limited range of movement in your joints weakness and muscle wasting']\n",
        "\n",
        "a = pd.DataFrame(a)"
      ],
      "metadata": {
        "id": "krB19NZOs0o0"
      },
      "execution_count": 25,
      "outputs": []
    },
    {
      "cell_type": "code",
      "source": [
        "a = a[0].apply(clean_txt)"
      ],
      "metadata": {
        "id": "8CHUpRR3tDLj"
      },
      "execution_count": 26,
      "outputs": []
    },
    {
      "cell_type": "code",
      "source": [
        "pred = model.predict(a)"
      ],
      "metadata": {
        "id": "ZFO9HvuNtFge"
      },
      "execution_count": 27,
      "outputs": []
    },
    {
      "cell_type": "code",
      "source": [
        "pred"
      ],
      "metadata": {
        "colab": {
          "base_uri": "https://localhost:8080/"
        },
        "id": "Ps9uHYCvtHwb",
        "outputId": "de3b4ef8-82d2-419b-a4df-2013352bb9f8"
      },
      "execution_count": 28,
      "outputs": [
        {
          "output_type": "execute_result",
          "data": {
            "text/plain": [
              "array(['Arthritis'], dtype=object)"
            ]
          },
          "metadata": {},
          "execution_count": 28
        }
      ]
    },
    {
      "cell_type": "code",
      "source": [
        "a = ['fever, fatigue, decreased appetite, nausea, vomiting, abdominal pain, dark urine, pale faeces, joint pain and jaundice (yellowing of skin and the whites of the eyes).']\n",
        "\n",
        "a = pd.DataFrame(a)\n",
        "\n",
        "a = a[0].apply(clean_txt)\n",
        "\n",
        "pred = model.predict(a)\n",
        "\n",
        "pred"
      ],
      "metadata": {
        "id": "xBboQCna8vre",
        "colab": {
          "base_uri": "https://localhost:8080/"
        },
        "outputId": "d3dc1e5d-4308-456a-f4ac-2692a18ccdc4"
      },
      "execution_count": 29,
      "outputs": [
        {
          "output_type": "execute_result",
          "data": {
            "text/plain": [
              "array(['Hepatitis D'], dtype=object)"
            ]
          },
          "metadata": {},
          "execution_count": 29
        }
      ]
    },
    {
      "cell_type": "code",
      "source": [],
      "metadata": {
        "id": "4Q-3Skiu88by"
      },
      "execution_count": 29,
      "outputs": []
    }
  ]
}